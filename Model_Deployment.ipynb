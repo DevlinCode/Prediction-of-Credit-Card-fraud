{
 "cells": [
  {
   "cell_type": "code",
   "execution_count": 12,
   "id": "14f62971-279f-4703-9824-cebe1338975f",
   "metadata": {},
   "outputs": [
    {
     "name": "stdout",
     "output_type": "stream",
     "text": [
      "Overwriting my_app.py\n"
     ]
    }
   ],
   "source": [
    "%%writefile my_app.py\n",
    "import numpy as np\n",
    "import pandas as pd\n",
    "from sklearn.model_selection import train_test_split\n",
    "import xgboost as xgb\n",
    "from sklearn.metrics import accuracy_score\n",
    "import streamlit as st\n",
    "from sklearn.model_selection import RepeatedKFold\n",
    "from imblearn.over_sampling import SMOTE\n",
    "import warnings\n",
    "\n",
    "warnings.filterwarnings(\"ignore\", category=UserWarning)\n",
    "warnings.filterwarnings(\"ignore\", category=FutureWarning)\n",
    "\n",
    "# load data\n",
    "data = pd.read_csv('/content/sample_data/creditcard.csv')\n",
    "\n",
    "# Removing such data\n",
    "df = data[data['Amount'] != 0]\n",
    "df[data[\"Amount\"]==0.00].head()\n",
    "\n",
    "# split data into training and testing sets\n",
    "X = data.drop(columns=\"Class\", axis=1)\n",
    "y = data[\"Class\"]\n",
    "\n",
    "# Lets perform RepeatedKFold\n",
    "rkf = RepeatedKFold(n_splits=5,n_repeats=10,random_state=None)\n",
    "\n",
    "# X is the feature set and y is the target\n",
    "for train_index, test_index in rkf.split(X,y):\n",
    "    print(\"Train:\",train_index, \"Test:\", test_index)\n",
    "    X_train, X_test = X.iloc[train_index], X.iloc[test_index]\n",
    "    y_train, y_test = y.iloc[train_index], y.iloc[test_index]\n",
    "\n",
    "# Oversample transactions to balance the classes\n",
    "smote = SMOTE(random_state=0)\n",
    "X_train, y_train = smote.fit_resample(X_train,y_train)\n",
    "X_test, y_test = smote.fit_resample(X_test,y_test)\n",
    "\n",
    "\n",
    "# train logistic regression model\n",
    "model = xgb.XGBClassifier(learning_rate=0.2,max_depth=5,max_features='sqrt', min_sample_leaf=1,min_sample_split=2,n_estimators=150)\n",
    "model.fit(X_train, y_train)\n",
    "\n",
    "\n",
    "# evaluate model performance\n",
    "train_acc = accuracy_score(model.predict(X_train), y_train)\n",
    "test_acc = accuracy_score(model.predict(X_test), y_test)\n",
    "print(\"Train Accuracy: \",train_acc,\"Test Accuracy: \",test_acc)\n",
    "\n",
    "# create Streamlit app\n",
    "st.title(\"Credit Card Fraud Detection Model\")\n",
    "st.write(\"Enter the following features to check if the transaction is legitimate or fraudulent:\")\n",
    "\n",
    "# Create input fields for user to enter feature values\n",
    "features = {}\n",
    "for col in X.columns:\n",
    "    features[col] = st.number_input(f\"Enter {col}\", value=0.0)\n",
    "\n",
    "# Create a button to submit input and get prediction\n",
    "submit = st.button(\"Submit\")\n",
    "\n",
    "if submit:\n",
    "    # Get input feature values\n",
    "    input_features = np.array([features[col] for col in X.columns], dtype=np.float64).reshape(1, -1)\n",
    "    \n",
    "    # Make prediction\n",
    "    prediction = model.predict(input_features)\n",
    "    \n",
    "    # Display result\n",
    "    if prediction[0] == 0:\n",
    "        st.write(\"Legitimate transaction\")\n",
    "    else:\n",
    "        st.write(\"Fraudulent transaction\")"
   ]
  },
  {
   "cell_type": "code",
   "execution_count": 13,
   "id": "568d5eed-eb86-4168-9f77-62f5790a31c0",
   "metadata": {},
   "outputs": [
    {
     "name": "stdout",
     "output_type": "stream",
     "text": [
      "^C\n"
     ]
    }
   ],
   "source": [
    "!streamlit run my_app.py & npx localtunnel --port 8501"
   ]
  },
  {
   "cell_type": "code",
   "execution_count": null,
   "id": "f5fd15d3-c893-4ae9-833a-bdbfde3c5b73",
   "metadata": {},
   "outputs": [],
   "source": []
  },
  {
   "cell_type": "code",
   "execution_count": null,
   "id": "d9afc4fd-238d-4bc8-9374-5d1087c4434e",
   "metadata": {},
   "outputs": [],
   "source": []
  }
 ],
 "metadata": {
  "kernelspec": {
   "display_name": "Python 3 (ipykernel)",
   "language": "python",
   "name": "python3"
  },
  "language_info": {
   "codemirror_mode": {
    "name": "ipython",
    "version": 3
   },
   "file_extension": ".py",
   "mimetype": "text/x-python",
   "name": "python",
   "nbconvert_exporter": "python",
   "pygments_lexer": "ipython3",
   "version": "3.9.18"
  }
 },
 "nbformat": 4,
 "nbformat_minor": 5
}
